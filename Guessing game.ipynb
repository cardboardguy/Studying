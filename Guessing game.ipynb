{
 "cells": [
  {
   "cell_type": "code",
   "execution_count": null,
   "metadata": {},
   "outputs": [],
   "source": [
    "# This is a guessing game. The program picks a random number between 1 and 100 and you have to guess it.\n",
    "# On the first try, if your guess is within 10 of the number, the result will be \"WARM\" and \"Cold\" otherwhise.\n",
    "# On every subsequent try, your new guess will be compared with the previous one. \n",
    "# If your new guess is closer to the number, the result will be \"WARMER\" and \"COLDER\" otherwise.\n",
    "# Good luck!\n",
    "\n",
    "from random import randint\n",
    "correct = randint(0,100)\n",
    "\n",
    "guesses = []\n",
    "\n",
    "guess = int(input('What is your guess: '))\n",
    "while guess<1 or guess>100:\n",
    "    print(\"The number should be between 1 and 100\")\n",
    "    guess = int(input('What is your guess: '))\n",
    "    pass\n",
    "\n",
    "if guess==correct:\n",
    "    print('YOU ARE CORRECT! It took you 1 guess!')\n",
    "elif abs(guess - correct)<11:\n",
    "    print('WARM!')\n",
    "    guesses.append(guess)\n",
    "    print('Your guesses so far: {}'.format(guesses))\n",
    "else:\n",
    "    print('COLD')\n",
    "    guesses.append(guess)\n",
    "    print('Your guesses so far: {}'.format(guesses))\n",
    "guess = int(input('What is your guess: '))\n",
    "while guess<1 or guess>100:\n",
    "    print(\"The number should be between 1 and 100\")\n",
    "    guess = int(input('What is your guess: '))\n",
    "    pass\n",
    "while guess != correct:\n",
    "    if abs(guess-correct)<abs(guesses[-1]-correct):\n",
    "        print('WARMER')\n",
    "        guesses.append(guess)\n",
    "        print('Your guesses so far: {}'.format(guesses))\n",
    "        guess = int(input('What is your guess: '))\n",
    "        while guess<1 or guess>100:\n",
    "            print(\"The number should be between 1 and 100\")\n",
    "            guess = int(input('What is your guess: '))\n",
    "            pass\n",
    "    else:\n",
    "        print(\"COLDER\")\n",
    "        guesses.append(guess)\n",
    "        print('Your guesses so far: {}'.format(guesses))\n",
    "        guess = int(input('What is your guess: '))\n",
    "        while guess<1 or guess>100:\n",
    "            print(\"The number should be between 1 and 100\")\n",
    "            guess = int(input('What is your guess: '))\n",
    "            pass\n",
    "else:\n",
    "    print('YOU ARE CORRECT!')\n",
    "    print('It took you {} guesses'.format(len(guesses)+1))"
   ]
  },
  {
   "cell_type": "code",
   "execution_count": null,
   "metadata": {},
   "outputs": [],
   "source": []
  }
 ],
 "metadata": {
  "kernelspec": {
   "display_name": "Python 3",
   "language": "python",
   "name": "python3"
  },
  "language_info": {
   "codemirror_mode": {
    "name": "ipython",
    "version": 3
   },
   "file_extension": ".py",
   "mimetype": "text/x-python",
   "name": "python",
   "nbconvert_exporter": "python",
   "pygments_lexer": "ipython3",
   "version": "3.8.5"
  }
 },
 "nbformat": 4,
 "nbformat_minor": 4
}
